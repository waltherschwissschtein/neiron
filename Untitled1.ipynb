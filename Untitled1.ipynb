{
 "cells": [
  {
   "cell_type": "code",
   "execution_count": null,
   "metadata": {},
   "outputs": [],
   "source": [
    "import numpy as np\n",
    "import pandas as pd\n",
    "def sigmoid(x):\n",
    "    return 1 / (1 + np.exp(-x))\n",
    "def obr_sigmoid(x):\n",
    "    return (1 / (1 + np.exp(-x)))(1-(1 / (1 + np.exp(-x)))\n",
    "w=np.random.normal(0.0,1,(3,3))\n",
    "w1=np.random.normal(0.0,1,(1,3))\n",
    "x=np.random.randint(0,1,size=(1,3))\n",
    "osh=np.array([0.2,0.3,0.4])\n",
    "def obr_raspostr(w,osh,w_pred,x_posl,x_pred):\n",
    "    for i in range(len(w)):\n",
    "        w2[i]=osh[i]*w[i]\n",
    "    a=len(w[1])\n",
    "    s=np.array([0 for a in range(a)])\n",
    "    for i in range(a):\n",
    "        for j in range(len(w[1])):\n",
    "            s[i]=s[i]+w2[j][i]\n",
    "    for i in range(a):\n",
    "        w_pred[i]=w_pred[i]+s[i]*obr_sigmoid(x_posl[i])*0.1*x_pred[i]\n",
    "    return w_pred\n"
   ]
  }
 ],
 "metadata": {
  "kernelspec": {
   "display_name": "Python 3",
   "language": "python",
   "name": "python3"
  },
  "language_info": {
   "codemirror_mode": {
    "name": "ipython",
    "version": 3
   },
   "file_extension": ".py",
   "mimetype": "text/x-python",
   "name": "python",
   "nbconvert_exporter": "python",
   "pygments_lexer": "ipython3",
   "version": "3.7.3"
  }
 },
 "nbformat": 4,
 "nbformat_minor": 2
}
