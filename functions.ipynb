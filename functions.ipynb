{
 "cells": [
  {
   "cell_type": "code",
   "execution_count": 1,
   "metadata": {},
   "outputs": [],
   "source": [
    "import numpy as np"
   ]
  },
  {
   "cell_type": "code",
   "execution_count": 2,
   "metadata": {},
   "outputs": [],
   "source": [
    "def sigmoid(x): #функция активации\n",
    "    return 1/(1 + np.exp(-x))\n",
    "def obr_sigmoid(x): #производная функции активации\n",
    "    return (1/(1 + np.exp(-x)))*(1-1/(1 + np.exp(-x)))"
   ]
  },
  {
   "cell_type": "code",
   "execution_count": 3,
   "metadata": {},
   "outputs": [],
   "source": [
    "def init_weights(kvo_neir_1_sloa,kvo_neir_2_sloa): #расставляем веса\n",
    "    weights = np.random.normal(0.0, 1, (kvo_neir_1_sloa,kvo_neir_2_sloa))\n",
    "    return weights\n",
    "def pr_raspr(weight,znach): #прямое распостранение\n",
    "    input=np.dot(weight,znach)       \n",
    "    input=sigmoid(input)\n",
    "    return input"
   ]
  },
  {
   "cell_type": "code",
   "execution_count": null,
   "metadata": {},
   "outputs": [],
   "source": [
    "def obr_raspostr(w,osh,w_pred,x_pred,x):\n",
    "    for i in range(len(w)):# повторяем цикл (количество слоев-1)раз\n",
    "        w2[i]=osh[i]*w[i]\n",
    "    a=len(w[1])\n",
    "    s=np.array([0 for a in range(a)])\n",
    "    for i in range(a):\n",
    "        for j in range(len(w[1])):#находим ошибки каждого нейрона\n",
    "            s[i]=s[i]+w2[j][i]   \n",
    "    for i in range(len(w_pred)):  # меняем веса\n",
    "        for j in range(len(w_pred[1])):  \n",
    "            w_pred[i][j]+=s[i]*obr_sigmoid(x_pred[j])*x[i]*0.1\n",
    "    return w_pred\n",
    "\n",
    "\n"
   ]
  },
  {
   "cell_type": "code",
   "execution_count": null,
   "metadata": {},
   "outputs": [],
   "source": []
  },
  {
   "cell_type": "code",
   "execution_count": null,
   "metadata": {},
   "outputs": [],
   "source": []
  },
  {
   "cell_type": "code",
   "execution_count": null,
   "metadata": {},
   "outputs": [],
   "source": []
  },
  {
   "cell_type": "code",
   "execution_count": null,
   "metadata": {},
   "outputs": [],
   "source": []
  },
  {
   "cell_type": "code",
   "execution_count": null,
   "metadata": {},
   "outputs": [],
   "source": []
  },
  {
   "cell_type": "code",
   "execution_count": null,
   "metadata": {},
   "outputs": [],
   "source": []
  },
  {
   "cell_type": "code",
   "execution_count": null,
   "metadata": {},
   "outputs": [],
   "source": []
  }
 ],
 "metadata": {
  "kernelspec": {
   "display_name": "Python 3",
   "language": "python",
   "name": "python3"
  },
  "language_info": {
   "codemirror_mode": {
    "name": "ipython",
    "version": 3
   },
   "file_extension": ".py",
   "mimetype": "text/x-python",
   "name": "python",
   "nbconvert_exporter": "python",
   "pygments_lexer": "ipython3",
   "version": "3.7.3"
  }
 },
 "nbformat": 4,
 "nbformat_minor": 2
}
